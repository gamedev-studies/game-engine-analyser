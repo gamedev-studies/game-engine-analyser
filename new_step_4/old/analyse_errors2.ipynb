{
 "cells": [
  {
   "cell_type": "code",
   "execution_count": 1,
   "metadata": {},
   "outputs": [],
   "source": [
    "import os\n",
    "import subprocess\n",
    "import numpy as np\n",
    "import pandas as pd"
   ]
  },
  {
   "cell_type": "code",
   "execution_count": 2,
   "metadata": {},
   "outputs": [],
   "source": [
    "def find_files(filename, search_path):\n",
    "   result = []\n",
    "   # Walking top-down from the root\n",
    "   for root, dir, files in os.walk(search_path):\n",
    "      if filename in files:\n",
    "         result.append(os.path.join(root, filename))\n",
    "   return result\n",
    "\n",
    "def get_path(str):\n",
    "   str = str.replace('<', '').replace('>', '').replace('\"', '')\n",
    "   return str.split('/')[::-1]\n",
    "\n",
    "def resolve_include(possible_files, ref_path):\n",
    "   ref_pos = 1\n",
    "   if len(possible_files) == 0:\n",
    "      return '(unresolved)'\n",
    "   else:\n",
    "      # no need to check if there is nothing to check\n",
    "      if len(ref_path) == 1:\n",
    "         return possible_files[0]\n",
    "      else:\n",
    "         # check if matches\n",
    "         for file in possible_files:\n",
    "            if ref_path[ref_pos] + \"/\" in file:\n",
    "               return file\n",
    "         # if not exact match, return first\n",
    "         # todo: go back other folders\n",
    "         return possible_files[0]\n",
    "      \n",
    "def get_unique_file_names(includes):\n",
    "   arr = []\n",
    "   for item in includes:\n",
    "      path = get_path(item)\n",
    "      arr.append(path[0])\n",
    "   arr = np.unique(np.array(arr))\n",
    "   arr = filter(lambda item: (\".\" in item), arr)\n",
    "   arr = list(arr)\n",
    "   arr = list(map(lambda item: (\".*/\" + item), arr))\n",
    "   return arr   "
   ]
  },
  {
   "cell_type": "code",
   "execution_count": 3,
   "metadata": {},
   "outputs": [
    {
     "name": "stdout",
     "output_type": "stream",
     "text": [
      "['./Source/Urho3D/Core/Context.h\\n'] Context.h\n",
      "['./Source/ThirdParty/Assimp/include/assimp/DefaultIOStream.h\\n'] DefaultIOStream.h\n",
      "['./Source/ThirdParty/Assimp/include/assimp/DefaultIOSystem.h\\n'] DefaultIOSystem.h\n",
      "['./Source/ThirdParty/Assimp/include/assimp/DefaultLogger.hpp\\n'] DefaultLogger.hpp\n",
      "['./Source/ThirdParty/Assimp/include/assimp/Defines.h\\n'] Defines.h\n",
      "['./Source/ThirdParty/Assimp/include/assimp/Exporter.hpp\\n'] Exporter.hpp\n",
      "['./Source/Urho3D/IO/FileSystem.h\\n'] FileSystem.h\n",
      "['./Source/ThirdParty/Assimp/include/assimp/IOStream.hpp\\n'] IOStream.hpp\n",
      "['./Source/ThirdParty/Assimp/include/assimp/IOSystem.hpp\\n'] IOSystem.hpp\n",
      "['./Source/ThirdParty/Assimp/include/assimp/Importer.hpp\\n'] Importer.hpp\n",
      "['./Source/ThirdParty/Assimp/include/assimp/LogStream.hpp\\n'] LogStream.hpp\n",
      "['./Source/ThirdParty/Assimp/include/assimp/NullLogger.hpp\\n'] NullLogger.hpp\n",
      "[] OSAtomic.h\n",
      "['./Source/ThirdParty/Assimp/contrib/openddlparser/include/openddlparser/OpenDDLParser.h\\n'] OpenDDLParser.h\n",
      "['./Source/Urho3D/Core/ProcessUtils.h\\n'] ProcessUtils.h\n",
      "['./Source/ThirdParty/Assimp/include/assimp/ProgressHandler.hpp\\n'] ProgressHandler.hpp\n",
      "['./Source/ThirdParty/Assimp/include/assimp/SceneCombiner.h\\n'] SceneCombiner.h\n",
      "['./Source/ThirdParty/Assimp/include/assimp/ai_assert.h\\n'] ai_assert.h\n",
      "['./Source/ThirdParty/Assimp/include/assimp/anim.h\\n'] anim.h\n",
      "[] c4d_file.h\n",
      "['./Source/ThirdParty/Assimp/include/assimp/camera.h\\n'] camera.h\n",
      "['./Source/ThirdParty/Assimp/include/assimp/cexport.h\\n'] cexport.h\n",
      "['./Source/ThirdParty/Assimp/include/assimp/cfileio.h\\n'] cfileio.h\n",
      "['./Source/ThirdParty/Assimp/include/assimp/cimport.h\\n'] cimport.h\n",
      "['./Source/ThirdParty/Tracy/libbacktrace/config.h\\n'] config.h\n",
      "[] default_alien_overloads.h\n",
      "['./Source/ThirdParty/Assimp/include/assimp/defs.h\\n'] defs.h\n",
      "[] direct.h\n",
      "['./Source/ThirdParty/Assimp/contrib/rapidjson/include/rapidjson/document.h\\n', './Source/ThirdParty/rapidjson/include/rapidjson/document.h\\n'] document.h\n",
      "['./Source/ThirdParty/Assimp/contrib/rapidjson/include/rapidjson/error/en.h\\n', './Source/ThirdParty/rapidjson/include/rapidjson/error/en.h\\n'] en.h\n",
      "['./Source/ThirdParty/Assimp/include/assimp/importerdesc.h\\n'] importerdesc.h\n",
      "['./Source/ThirdParty/Assimp/contrib/irrXML/irrXML.h\\n'] irrXML.h\n",
      "['./Source/ThirdParty/Assimp/include/assimp/light.h\\n'] light.h\n",
      "['./Source/ThirdParty/Assimp/include/assimp/material.h\\n'] material.h\n",
      "['./Source/ThirdParty/Assimp/include/assimp/matrix4x4.h\\n'] matrix4x4.h\n",
      "['./Source/ThirdParty/Assimp/include/assimp/mesh.h\\n'] mesh.h\n",
      "[] mmsystem.h\n",
      "[] param.h\n",
      "['./Source/ThirdParty/Assimp/include/assimp/Compiler/poppack1.h\\n'] poppack1.h\n",
      "['./Source/ThirdParty/Assimp/include/assimp/postprocess.h\\n'] postprocess.h\n",
      "[] ppu_asm_intrinsics.h\n",
      "['./Source/ThirdParty/ik/include/ik/pstdint.h\\n', './Source/ThirdParty/Assimp/include/assimp/Compiler/pstdint.h\\n'] pstdint.h\n",
      "['./Source/ThirdParty/Assimp/include/assimp/Compiler/pushpack1.h\\n'] pushpack1.h\n",
      "['./Source/ThirdParty/Assimp/include/assimp/quaternion.h\\n'] quaternion.h\n",
      "['./Source/ThirdParty/Assimp/contrib/rapidjson/include/rapidjson/rapidjson.h\\n', './Source/ThirdParty/rapidjson/include/rapidjson/rapidjson.h\\n'] rapidjson.h\n",
      "[] regdef.h\n",
      "[] revision.h\n",
      "['./Source/ThirdParty/Assimp/include/assimp/scene.h\\n'] scene.h\n",
      "[] stat.h\n",
      "[] stdarg.h\n",
      "[] stddef.h\n",
      "['./Source/ThirdParty/Assimp/include/assimp/texture.h\\n'] texture.h\n",
      "['./Source/ThirdParty/SLikeNet/Source/slikenet/types.h\\n', './Source/ThirdParty/SLikeNet/Source/include/slikenet/types.h\\n', './Source/ThirdParty/WebP/src/webp/types.h\\n', './Source/ThirdParty/ik/include/ik/types.h\\n', './Source/ThirdParty/Assimp/include/assimp/types.h\\n'] types.h\n",
      "['./Source/ThirdParty/Assimp/contrib/unzip/unzip.h\\n'] unzip.h\n",
      "['./Source/ThirdParty/Assimp/contrib/utf8cpp/source/utf8.h\\n'] utf8.h\n",
      "['./Source/ThirdParty/Assimp/include/assimp/vector2.h\\n'] vector2.h\n",
      "['./Source/ThirdParty/Assimp/include/assimp/vector3.h\\n'] vector3.h\n",
      "['./Source/ThirdParty/SLikeNet/Source/slikenet/version.h\\n', './Source/ThirdParty/SLikeNet/Source/include/slikenet/version.h\\n', './Source/ThirdParty/Assimp/include/assimp/version.h\\n'] version.h\n",
      "[] windows.h\n",
      "[] xtl.h\n",
      "['./Source/ThirdParty/Assimp/contrib/unzip/unzip.h\\n', './Source/ThirdParty/Assimp/contrib/zip/src/zip.h\\n'] zip.h\n",
      "['./Source/ThirdParty/FreeType/src/gzip/zlib.h\\n', './Source/ThirdParty/Assimp/contrib/zlib/zlib.h\\n'] zlib.h\n"
     ]
    }
   ],
   "source": [
    "arr_res_2nd = []\n",
    "arr_unresolved = []\n",
    "engine_path = '/home/ullmann/Documents/research/engine_repos_local/urho3d'\n",
    "\n",
    "# 1 - load\n",
    "ds = pd.read_csv('errors.txt', names=['file', 'includes'], header=None)[0:1000]\n",
    "ds = ds['includes'].values\n",
    "\n",
    "# 2 - build command string\n",
    "unique_filenames = get_unique_file_names(ds)\n",
    "# todo: concatenate the dot slash before\n",
    "str_command = \"find . -type f -regex '\" + (\"\\|\".join(unique_filenames)) + \"'\"\n",
    "str_command = str_command + \" > bobo.txt\"\n",
    "\n",
    "# 3 - execute and save\n",
    "# receive this path by parameter\n",
    "os.chdir('/home/ullmann/Documents/research/engine_repos_local/urho3d')\n",
    "os.system(str_command)\n",
    "result = list(open('bobo.txt', 'r'))\n",
    "\n",
    "# 4 - resolve one by one\n",
    "for filename in unique_filenames:\n",
    "    xinaveia = filename.replace(\".*/\", \"\")\n",
    "    xups = list(filter(lambda item : xinaveia in item, result))\n",
    "    print(xups, xinaveia)\n",
    "    if len(xups) > 0:\n",
    "        ref_path = get_path(xups[0])\n",
    "        possible_files = list(filter(lambda item : xinaveia in item, result))\n",
    "        risolvido = resolve_include(possible_files, ref_path)\n",
    "        arr_res_2nd.append(risolvido)\n",
    "    else:\n",
    "        arr_unresolved.append(filename)"
   ]
  },
  {
   "cell_type": "code",
   "execution_count": 4,
   "metadata": {},
   "outputs": [
    {
     "name": "stdout",
     "output_type": "stream",
     "text": [
      "resolved on 2nd pass 48\n",
      "unresolved 14\n"
     ]
    }
   ],
   "source": [
    "print(\"resolved on 2nd pass\", len(arr_res_2nd))\n",
    "print(\"unresolved\", len(arr_unresolved))"
   ]
  },
  {
   "cell_type": "code",
   "execution_count": 6,
   "metadata": {},
   "outputs": [
    {
     "data": {
      "text/plain": [
       "['.*/OSAtomic.h',\n",
       " '.*/c4d_file.h',\n",
       " '.*/default_alien_overloads.h',\n",
       " '.*/direct.h',\n",
       " '.*/mmsystem.h',\n",
       " '.*/param.h',\n",
       " '.*/ppu_asm_intrinsics.h',\n",
       " '.*/regdef.h',\n",
       " '.*/revision.h',\n",
       " '.*/stat.h',\n",
       " '.*/stdarg.h',\n",
       " '.*/stddef.h',\n",
       " '.*/windows.h',\n",
       " '.*/xtl.h']"
      ]
     },
     "execution_count": 6,
     "metadata": {},
     "output_type": "execute_result"
    }
   ],
   "source": [
    "arr_unresolved"
   ]
  },
  {
   "cell_type": "code",
   "execution_count": null,
   "metadata": {},
   "outputs": [],
   "source": []
  }
 ],
 "metadata": {
  "kernelspec": {
   "display_name": "Python 3",
   "language": "python",
   "name": "python3"
  },
  "language_info": {
   "codemirror_mode": {
    "name": "ipython",
    "version": 3
   },
   "file_extension": ".py",
   "mimetype": "text/x-python",
   "name": "python",
   "nbconvert_exporter": "python",
   "pygments_lexer": "ipython3",
   "version": "3.8.10"
  },
  "orig_nbformat": 4,
  "vscode": {
   "interpreter": {
    "hash": "916dbcbb3f70747c44a77c7bcd40155683ae19c65e1c03b4aa3499c5328201f1"
   }
  }
 },
 "nbformat": 4,
 "nbformat_minor": 2
}
